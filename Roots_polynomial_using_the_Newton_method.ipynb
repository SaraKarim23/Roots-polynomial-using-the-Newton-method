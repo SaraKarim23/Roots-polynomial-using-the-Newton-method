{
  "nbformat": 4,
  "nbformat_minor": 0,
  "metadata": {
    "colab": {
      "name": "Roots polynomial using the Newton method.ipynb",
      "provenance": [],
      "authorship_tag": "ABX9TyMTxT45mZ+xDi16ri3Dje/4",
      "include_colab_link": true
    },
    "kernelspec": {
      "name": "python3",
      "display_name": "Python 3"
    },
    "language_info": {
      "name": "python"
    }
  },
  "cells": [
    {
      "cell_type": "markdown",
      "metadata": {
        "id": "view-in-github",
        "colab_type": "text"
      },
      "source": [
        "<a href=\"https://colab.research.google.com/github/SaraKarim23/Roots-polynomial-using-the-Newton-method/blob/main/Roots_polynomial_using_the_Newton_method.ipynb\" target=\"_parent\"><img src=\"https://colab.research.google.com/assets/colab-badge.svg\" alt=\"Open In Colab\"/></a>"
      ]
    },
    {
      "cell_type": "code",
      "metadata": {
        "id": "iNBOf0f5Bsex"
      },
      "source": [
        "import numpy as np\n",
        "from scipy.misc import derivative\n",
        "import matplotlib.pyplot as plt\n",
        "from ipywidgets import widgets"
      ],
      "execution_count": 9,
      "outputs": []
    },
    {
      "cell_type": "code",
      "metadata": {
        "id": "fr009qU4CQ-q"
      },
      "source": [
        "x_n = 2\n",
        "x = np.linspace(0.2, 2.2, 500)\n",
        "\n",
        "def f(x):\n",
        "    return np.log(x)\n",
        "\n",
        "def x_next(f, x, x_n):\n",
        "    slope = derivative(f, x_n, dx=0.1)\n",
        "    return x_n - f(x_n) / slope\n",
        "\n",
        "for n in range(6):\n",
        "    print('x_{} = {:.6f}'.format(n + 1, x_n))\n",
        "    x_n = x_next(f, x, x_n)\n",
        "\n"
      ],
      "execution_count": null,
      "outputs": []
    }
  ]
}